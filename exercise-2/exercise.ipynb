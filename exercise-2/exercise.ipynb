{
 "cells": [
  {
   "cell_type": "markdown",
   "metadata": {},
   "source": [
    "# Exercise-2\n",
    "Add the specified code for each code cell, running the cells _in order_."
   ]
  },
  {
   "cell_type": "markdown",
   "metadata": {},
   "source": [
    "Create the following variables:\n",
    "\n",
    "- A (constant) variable **`LIST_SIZE`** that will represent the size of a list. Give this constant a value of **`10`**.\n",
    "\n",
    "- A list **`numbers`** that is a list of `LIST_SIZE` numbers randomly chosen from between `0` and `LIST_SIZE**2` (the square of the list size). Use the `random.sample()` function to chose this list.\n",
    "\n",
    "- A list **`targets`** that is a list of `1000` numbers randomly chosen from between `0` and `LIST_SIZE**2`. Use the `random.choices()` function to chose \"with replacement\" (allowing you to have repeated items within your list of 1000)."
   ]
  },
  {
   "cell_type": "code",
   "execution_count": 49,
   "metadata": {
    "collapsed": false
   },
   "outputs": [
    {
     "name": "stdout",
     "output_type": "stream",
     "text": [
      "[1907, 2256, 8552, 5762, 8180, 5663, 6171, 7770, 2841, 5257, 1948, 7920, 6322, 795, 9423, 4743, 5688, 6441, 590, 4305, 95, 1624, 8032, 2724, 7755, 3087, 9851, 6558, 3444, 315, 8884, 9681, 8931, 202, 4340, 8252, 8915, 7168, 5124, 913, 9019, 8142, 9557, 8659, 1231, 8197, 86, 2187, 9420, 7448, 2247, 2913, 2778, 5837, 6816, 4470, 3799, 6697, 8340, 6633, 3417, 9199, 7515, 2324, 8425, 844, 6158, 3856, 6852, 2287, 1753, 9595, 6555, 9110, 7965, 853, 6945, 9194, 8845, 551, 9031, 1368, 7988, 4823, 2302, 9364, 1859, 6203, 7075, 7413, 7274, 5450, 5392, 8370, 4511, 5497, 1022, 1878, 4498, 7083]\n"
     ]
    }
   ],
   "source": [
    "LIST_SIZE = 100\n",
    "import random\n",
    "numbers = random.sample(range(LIST_SIZE**2),LIST_SIZE)\n",
    "targets = random.choices(range(LIST_SIZE**2),k=1000)\n",
    "print(numbers)\n",
    "#print(targets)"
   ]
  },
  {
   "cell_type": "markdown",
   "metadata": {},
   "source": [
    "Define a function **`linear_search()`** that takes in a list and a target value, performs a linear search for that target, and returns the index of that target in the list (or -1 if the target is not in the list)."
   ]
  },
  {
   "cell_type": "code",
   "execution_count": 50,
   "metadata": {
    "collapsed": false
   },
   "outputs": [
    {
     "data": {
      "text/plain": [
       "-1"
      ]
     },
     "execution_count": 50,
     "metadata": {},
     "output_type": "execute_result"
    }
   ],
   "source": [
    "def linear_search(list,target):\n",
    "    for i in range(len(list)):\n",
    "        if list[i] == target:\n",
    "            return i\n",
    "    return -1\n",
    "\n",
    "linear_search(numbers, 51)     "
   ]
  },
  {
   "cell_type": "markdown",
   "metadata": {},
   "source": [
    "Import the Python [`time`](https://docs.python.org/3/library/time.html) module. The `time.time()` function will return the \"current\" time (in seconds since \"Unix epoch\", [Jan 01, 1970](https://en.wikipedia.org/wiki/Unix_time)).\n",
    "\n",
    "Print out the current time in seconds since epoch."
   ]
  },
  {
   "cell_type": "code",
   "execution_count": 51,
   "metadata": {
    "collapsed": false
   },
   "outputs": [
    {
     "name": "stdout",
     "output_type": "stream",
     "text": [
      "1493186937.1301079\n"
     ]
    }
   ],
   "source": [
    "import time\n",
    "print(time.time())"
   ]
  },
  {
   "cell_type": "markdown",
   "metadata": {},
   "source": [
    "Use the `time.time()` function to \"time\" how long it takes to **linear search** the `numbers` list for each of the 1000 values in `targets`. Save the `time.time()` start time immediately before doing these searches, and then save the `time.time()` end time immediately afterwards. Print out the elapsed time for the 1000 searches (in seconds)."
   ]
  },
  {
   "cell_type": "code",
   "execution_count": 52,
   "metadata": {
    "collapsed": false
   },
   "outputs": [
    {
     "name": "stdout",
     "output_type": "stream",
     "text": [
      "0.010341167449951172\n"
     ]
    }
   ],
   "source": [
    "start_time = time.time()\n",
    "for target in targets:\n",
    "    linear_search(numbers,target)\n",
    "end_time = time.time()\n",
    "print(end_time-start_time)\n"
   ]
  },
  {
   "cell_type": "markdown",
   "metadata": {},
   "source": [
    "Define a function **`binary_search()`** that takes in a list and a target value, performs a _binary search_ for that target, and returns the index of that target in the list (or -1 if the target is not in the list)."
   ]
  },
  {
   "cell_type": "code",
   "execution_count": 53,
   "metadata": {
    "collapsed": false
   },
   "outputs": [],
   "source": [
    "def binary_search(list,target):\n",
    "#Joel's solution from the module overview\n",
    "\n",
    "    start_index = 0 # initial goalposts\n",
    "    end_index = len(list)-1\n",
    "\n",
    "    while start_index <= end_index:  # at least one thing to look at\n",
    "        middle_index = (start_index + end_index) // 2  # middle (integer) index\n",
    "\n",
    "        if(list[middle_index] == target):\n",
    "            return middle_index  # found the item!\n",
    "        elif target > list[middle_index]:\n",
    "            start_index = middle_index+1  # move goalpost\n",
    "        else:\n",
    "            end_index = middle_index-1  # move goalpost\n",
    "\n",
    "    return -1  # did not find the item"
   ]
  },
  {
   "cell_type": "markdown",
   "metadata": {},
   "source": [
    "Use the `time.time()` function to \"time\" how long it takes to **binary search** the `numbers` list for each of the 1000 values in `targets`. Save the `time.time()` start time immediately before doing these searches, and then save the `time.time()` end time immediately afterwards. Print out the elapsed time for the 1000 searches (in seconds).\n",
    "- Remember that a binary search needs a **sorted** list, so you should `sort()` the numbers _BEFORE_ you time the searches!"
   ]
  },
  {
   "cell_type": "code",
   "execution_count": 54,
   "metadata": {
    "collapsed": false
   },
   "outputs": [
    {
     "name": "stdout",
     "output_type": "stream",
     "text": [
      "Time for 1000 searches:  0.0031540393829345703 seconds\n"
     ]
    }
   ],
   "source": [
    "numbers.sort()\n",
    "start = time.time()\n",
    "for target in targets:\n",
    "    binary_search(numbers, target)\n",
    "end = time.time()\n",
    "\n",
    "print(\"Time for 1000 searches: \", (end-start), \"seconds\")"
   ]
  },
  {
   "cell_type": "markdown",
   "metadata": {},
   "source": [
    "Define a function **`selection_search()`** that takes in a list and performs an in-place _selection sort_ on that list, thereby sorting it."
   ]
  },
  {
   "cell_type": "code",
   "execution_count": 55,
   "metadata": {
    "collapsed": true
   },
   "outputs": [],
   "source": [
    "def selection_search(a_list):\n",
    "    for i in range(len(a_list)):  \n",
    "        selected_index = i\n",
    "        for j in range(i, len(a_list)):\n",
    "            if(a_list[j] < a_list[selected_index]):\n",
    "                selected_index = j\n",
    "\n",
    "       \n",
    "        a_list[i], a_list[selected_index] = a_list[selected_index], a_list[i]"
   ]
  },
  {
   "cell_type": "markdown",
   "metadata": {},
   "source": [
    "Use the `time.time()` function to \"time\" how long it takes to **selection sort** the `numbers` list Save the `time.time()` start time immediately before sorting, and then save the `time.time()` end time immediately afterwards. Print out the elapsed time (in seconds).\n",
    "- You should `random.shuffle()` the list before you sort it (since it is sorted from the binary search)\n",
    "- Multiple the time elapsed by 1000 to be able to compare with the 1000 search tests performed earlier."
   ]
  },
  {
   "cell_type": "code",
   "execution_count": 56,
   "metadata": {
    "collapsed": false
   },
   "outputs": [
    {
     "name": "stdout",
     "output_type": "stream",
     "text": [
      "Time to sort:  1.3742446899414062 seconds\n"
     ]
    }
   ],
   "source": [
    "random.shuffle(numbers)\n",
    "start = time.time()\n",
    "selection_search(numbers)  # numbers.sort()\n",
    "end = time.time()\n",
    "print(\"Time to sort: \", (end-start)*1000, \"seconds\")\n"
   ]
  },
  {
   "cell_type": "markdown",
   "metadata": {},
   "source": [
    "**DO THIS** Change the `LIST_SIZE` variable to `100` and re-run the entire notebook. What changes do you see to the timer results? Try with a `LIST_SIZE` of `1000` and `10000` (the later will take a few seconds to sort!)"
   ]
  }
 ],
 "metadata": {
  "kernelspec": {
   "display_name": "Python 3",
   "language": "python",
   "name": "python3"
  },
  "language_info": {
   "codemirror_mode": {
    "name": "ipython",
    "version": 3
   },
   "file_extension": ".py",
   "mimetype": "text/x-python",
   "name": "python",
   "nbconvert_exporter": "python",
   "pygments_lexer": "ipython3",
   "version": "3.6.0"
  },
  "toc": {
   "colors": {
    "hover_highlight": "#DAA520",
    "running_highlight": "#FF0000",
    "selected_highlight": "#FFD700"
   },
   "moveMenuLeft": true,
   "nav_menu": {
    "height": "30px",
    "width": "252px"
   },
   "navigate_menu": true,
   "number_sections": true,
   "sideBar": true,
   "threshold": 4,
   "toc_cell": false,
   "toc_section_display": "block",
   "toc_window_display": false,
   "widenNotebook": false
  }
 },
 "nbformat": 4,
 "nbformat_minor": 2
}
